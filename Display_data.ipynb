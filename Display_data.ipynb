{
 "cells": [
  {
   "cell_type": "code",
   "execution_count": 1,
   "id": "1b1120c1-85bb-4b9f-a949-2b2b360e959f",
   "metadata": {},
   "outputs": [],
   "source": [
    "import json\n"
   ]
  },
  {
   "cell_type": "markdown",
   "id": "a2d650c1-47a8-440b-9683-76548c0c40c0",
   "metadata": {},
   "source": [
    "# Load the JSON file"
   ]
  },
  {
   "cell_type": "code",
   "execution_count": 2,
   "id": "b1b18cd7-c0a1-4d31-8ed8-08ae3a2ca18d",
   "metadata": {},
   "outputs": [],
   "source": [
    "def load_data(filename):\n",
    "    with open(filename, \"r\") as file:\n",
    "        data = json.load(file)\n",
    "    return data"
   ]
  },
  {
   "cell_type": "markdown",
   "id": "eed6e5c6-d8d8-4473-89b0-0b91c98fa781",
   "metadata": {},
   "source": [
    "# Display users and their connections"
   ]
  },
  {
   "cell_type": "code",
   "execution_count": 3,
   "id": "525df1c0-a255-4bbf-b222-f22071b2ba1f",
   "metadata": {},
   "outputs": [],
   "source": [
    "def display_users(data):\n",
    "    print(\"Users and Their Connections:\\n\")\n",
    "    for user in data[\"users\"]:\n",
    "        print(f\"{user['name']} (ID: {user['id']}) - Friends: {user['friends']} - Liked Pages: {user['liked_pages']}\")\n",
    "    print(\"\\nPages:\\n\")\n",
    "    for page in data[\"pages\"]:\n",
    "        print(f\"{page['id']}: {page['name']}\")"
   ]
  },
  {
   "cell_type": "markdown",
   "id": "4a77d1c4-b049-4375-9379-10f20ac995dd",
   "metadata": {},
   "source": [
    "\n",
    "# Load and display the data"
   ]
  },
  {
   "cell_type": "code",
   "execution_count": 4,
   "id": "f9ace5db-73ee-49d5-9aeb-1539af4aa642",
   "metadata": {},
   "outputs": [
    {
     "name": "stdout",
     "output_type": "stream",
     "text": [
      "Users and Their Connections:\n",
      "\n",
      "Amit (ID: 1) - Friends: [2, 3] - Liked Pages: [101]\n",
      "Priya (ID: 2) - Friends: [1, 4] - Liked Pages: [102]\n",
      "Rahul (ID: 3) - Friends: [1] - Liked Pages: [101, 103]\n",
      "Sara (ID: 4) - Friends: [2] - Liked Pages: [104]\n",
      "\n",
      "Pages:\n",
      "\n",
      "101: Python Developers\n",
      "102: Data Science Enthusiasts\n",
      "103: AI & ML Community\n",
      "104: Web Dev Hub\n"
     ]
    }
   ],
   "source": [
    "data = load_data(\"data.json\")\n",
    "display_users(data)"
   ]
  }
 ],
 "metadata": {
  "kernelspec": {
   "display_name": "Python [conda env:shivi]",
   "language": "python",
   "name": "conda-env-shivi-py"
  },
  "language_info": {
   "codemirror_mode": {
    "name": "ipython",
    "version": 3
   },
   "file_extension": ".py",
   "mimetype": "text/x-python",
   "name": "python",
   "nbconvert_exporter": "python",
   "pygments_lexer": "ipython3",
   "version": "3.13.5"
  }
 },
 "nbformat": 4,
 "nbformat_minor": 5
}
